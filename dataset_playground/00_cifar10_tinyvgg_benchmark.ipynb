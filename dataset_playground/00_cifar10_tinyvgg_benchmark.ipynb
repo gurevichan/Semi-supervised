{
 "cells": [
  {
   "cell_type": "markdown",
   "id": "c5ab26c9",
   "metadata": {
    "colab_type": "text",
    "id": "view-in-github"
   },
   "source": [
    "<a href=\"https://colab.research.google.com/github/mrdbourke/m1-machine-learning-test/blob/main/00_cifar10_tinyvgg_benchmark.ipynb\" target=\"_parent\"><img src=\"https://colab.research.google.com/assets/colab-badge.svg\" alt=\"Open In Colab\"/></a>"
   ]
  },
  {
   "cell_type": "markdown",
   "id": "5TSbi6c74A6E",
   "metadata": {
    "id": "5TSbi6c74A6E"
   },
   "source": [
    "# CIFAR10 TinyVGG Benchmark\n",
    "\n",
    "The following notebook tests the speed at which a given device can perform training iterations on the [CIFAR10 dataset](https://www.tensorflow.org/api_docs/python/tf/keras/datasets/cifar10/load_data) (10 classes, 50,000 training images, 10,000 testing images) training the TinyVGG architecture as a base.\n",
    "\n",
    "It's designed to be a simple test to compare Apple's M1 (normal, Pro, Max) to each other and other sources of compute.\n",
    "\n",
    "| Model | Dataset | Train Size | Test Size |\n",
    "| ----- | ----- | ----- | ----- |\n",
    "| [TinyVGG](https://poloclub.github.io/cnn-explainer/) (trained from scratch) | CIFAR10 (from TensorFlow Datasets) | ~50,000 (32x32x3) images | ~10,000 (32x32x3) images|\n",
    "\n",
    "## Resources\n",
    "* Code on GitHub: https://github.com/mrdbourke/m1-machine-learning-test\n",
    "* Code in this notebook adapted from: https://dev.mrdbourke.com/tensorflow-deep-learning/03_convolutional_neural_networks_in_tensorflow/"
   ]
  },
  {
   "cell_type": "markdown",
   "id": "06JiS98-5DvF",
   "metadata": {
    "id": "06JiS98-5DvF"
   },
   "source": [
    "## Check for GPU\n",
    "\n",
    "If you're using Google Colab, you'll need to activate a GPU:\n",
    "1. Go to \"Runtime\"\n",
    "2. Go to \"Change Runtime Type\"\n",
    "3. Select \"GPU\"\n",
    "4. Click \"Save\" (this will restart the runtime)\n",
    "\n",
    "If you're using a Mac with an M1 chip, the GPU should already be selected if you've installed TensorFlow correctly."
   ]
  },
  {
   "cell_type": "code",
   "execution_count": 1,
   "id": "LbLhLej4JbQE",
   "metadata": {
    "colab": {
     "base_uri": "https://localhost:8080/"
    },
    "execution": {
     "iopub.execute_input": "2022-07-31T08:18:02.587271Z",
     "iopub.status.busy": "2022-07-31T08:18:02.586892Z",
     "iopub.status.idle": "2022-07-31T08:18:03.482032Z",
     "shell.execute_reply": "2022-07-31T08:18:03.481091Z",
     "shell.execute_reply.started": "2022-07-31T08:18:02.587165Z"
    },
    "id": "LbLhLej4JbQE",
    "outputId": "96c253b3-fb77-4abe-c06d-a616aef387f5",
    "tags": []
   },
   "outputs": [
    {
     "name": "stdout",
     "output_type": "stream",
     "text": [
      "Sun Jul 31 08:18:03 2022       \n",
      "+-----------------------------------------------------------------------------+\n",
      "| NVIDIA-SMI 495.29.05    Driver Version: 495.29.05    CUDA Version: 11.5     |\n",
      "|-------------------------------+----------------------+----------------------+\n",
      "| GPU  Name        Persistence-M| Bus-Id        Disp.A | Volatile Uncorr. ECC |\n",
      "| Fan  Temp  Perf  Pwr:Usage/Cap|         Memory-Usage | GPU-Util  Compute M. |\n",
      "|                               |                      |               MIG M. |\n",
      "|===============================+======================+======================|\n",
      "|   0  NVIDIA GeForce ...  On   | 00000000:02:00.0 Off |                  N/A |\n",
      "| 26%   32C    P8     7W / 180W |      1MiB /  8119MiB |      0%      Default |\n",
      "|                               |                      |                  N/A |\n",
      "+-------------------------------+----------------------+----------------------+\n",
      "                                                                               \n",
      "+-----------------------------------------------------------------------------+\n",
      "| Processes:                                                                  |\n",
      "|  GPU   GI   CI        PID   Type   Process name                  GPU Memory |\n",
      "|        ID   ID                                                   Usage      |\n",
      "|=============================================================================|\n",
      "|  No running processes found                                                 |\n",
      "+-----------------------------------------------------------------------------+\n"
     ]
    }
   ],
   "source": [
    "# This will error if not using a Nvidia GPU (only works on Colab)\n",
    "!nvidia-smi"
   ]
  },
  {
   "cell_type": "code",
   "execution_count": 1,
   "id": "3bHGp6bH5OCm",
   "metadata": {
    "colab": {
     "base_uri": "https://localhost:8080/"
    },
    "execution": {
     "iopub.execute_input": "2022-07-31T08:42:59.793923Z",
     "iopub.status.busy": "2022-07-31T08:42:59.793510Z",
     "iopub.status.idle": "2022-07-31T08:43:04.103078Z",
     "shell.execute_reply": "2022-07-31T08:43:04.075020Z",
     "shell.execute_reply.started": "2022-07-31T08:42:59.793838Z"
    },
    "id": "3bHGp6bH5OCm",
    "outputId": "71c42d9d-86f1-4748-fd23-71291ac55259",
    "tags": []
   },
   "outputs": [
    {
     "data": {
      "text/plain": [
       "[PhysicalDevice(name='/physical_device:CPU:0', device_type='CPU'),\n",
       " PhysicalDevice(name='/physical_device:GPU:0', device_type='GPU')]"
      ]
     },
     "execution_count": 1,
     "metadata": {},
     "output_type": "execute_result"
    }
   ],
   "source": [
    "# Check for GPU using TensorFlow\n",
    "import tensorflow as tf\n",
    "tf.config.list_physical_devices()"
   ]
  },
  {
   "cell_type": "markdown",
   "id": "cQ4yT7yE6heC",
   "metadata": {
    "id": "cQ4yT7yE6heC"
   },
   "source": [
    "## Setup hyperparameters\n",
    "\n",
    "Change these to suit your needs.\n",
    "\n",
    "The main one will be the device you're running code on.\n",
    "\n",
    "E.g. `DEVICE = \"Google Colab (K80 GPU)\"` if using Google Colab."
   ]
  },
  {
   "cell_type": "code",
   "execution_count": 3,
   "id": "L8nDFuw_6tCE",
   "metadata": {
    "execution": {
     "iopub.execute_input": "2022-07-31T08:43:19.791283Z",
     "iopub.status.busy": "2022-07-31T08:43:19.790902Z",
     "iopub.status.idle": "2022-07-31T08:43:19.795578Z",
     "shell.execute_reply": "2022-07-31T08:43:19.794839Z",
     "shell.execute_reply.started": "2022-07-31T08:43:19.791253Z"
    },
    "id": "L8nDFuw_6tCE",
    "tags": []
   },
   "outputs": [],
   "source": [
    "# Setup hyperparameters\n",
    "BATCH_SIZE = 32 # good for your health: https://twitter.com/ylecun/status/989610208497360896\n",
    "EPOCHS = 10 # only run for a short period of time... we don't have all day\n",
    "DATASET_NAME = \"cifar10\" # change this to try other image datasets from TensorFlow Datasets\n",
    "DEVICE = \"1080\" #\"Google Colab (K80 GPU)\" # change this depending on where you're runing the code"
   ]
  },
  {
   "cell_type": "markdown",
   "id": "fc0MfFZU5HhS",
   "metadata": {
    "id": "fc0MfFZU5HhS"
   },
   "source": [
    "## Get helper functions and import dependencies\n",
    "\n",
    "The function below downloads the helper functions if necessary (if running this notebook in Google Colab, it's easier to download a single file than clone the whole repo)."
   ]
  },
  {
   "cell_type": "code",
   "execution_count": 4,
   "id": "UBY_EONu5HQk",
   "metadata": {
    "colab": {
     "base_uri": "https://localhost:8080/"
    },
    "execution": {
     "iopub.execute_input": "2022-07-31T08:43:21.851314Z",
     "iopub.status.busy": "2022-07-31T08:43:21.850940Z",
     "iopub.status.idle": "2022-07-31T08:43:21.857512Z",
     "shell.execute_reply": "2022-07-31T08:43:21.856580Z",
     "shell.execute_reply.started": "2022-07-31T08:43:21.851284Z"
    },
    "id": "UBY_EONu5HQk",
    "outputId": "cf5504aa-2afc-497a-af66-a9e88d98f747"
   },
   "outputs": [
    {
     "name": "stdout",
     "output_type": "stream",
     "text": [
      "Helper functions already downloaded, skipping redownload.\n"
     ]
    }
   ],
   "source": [
    "# Get helper functions\n",
    "import os\n",
    "import requests\n",
    "\n",
    "if not os.path.exists(\"helper_functions.py\"):\n",
    "  print(\"Downloading helper functions...\")\n",
    "  r = requests.get(\"https://raw.githubusercontent.com/mrdbourke/m1-machine-learning-test/main/helper_functions.py\")\n",
    "  print(\"Writing helper functions to file...\")\n",
    "  open(\"helper_functions.py\", \"wb\").write(r.content)\n",
    "else:\n",
    "  print(\"Helper functions already downloaded, skipping redownload.\")"
   ]
  },
  {
   "cell_type": "code",
   "execution_count": 5,
   "id": "b8f23a80",
   "metadata": {
    "colab": {
     "base_uri": "https://localhost:8080/"
    },
    "execution": {
     "iopub.execute_input": "2022-07-31T08:43:22.424867Z",
     "iopub.status.busy": "2022-07-31T08:43:22.424571Z",
     "iopub.status.idle": "2022-07-31T08:43:23.124874Z",
     "shell.execute_reply": "2022-07-31T08:43:23.123811Z",
     "shell.execute_reply.started": "2022-07-31T08:43:22.424839Z"
    },
    "id": "b8f23a80",
    "outputId": "68ecf66a-e18f-475b-b389-4283bd45b861"
   },
   "outputs": [
    {
     "name": "stdout",
     "output_type": "stream",
     "text": [
      "2.9.1\n"
     ]
    },
    {
     "ename": "ModuleNotFoundError",
     "evalue": "No module named 'tensorflow_datasets'",
     "output_type": "error",
     "traceback": [
      "\u001b[0;31m---------------------------------------------------------------------------\u001b[0m",
      "\u001b[0;31mModuleNotFoundError\u001b[0m                       Traceback (most recent call last)",
      "Input \u001b[0;32mIn [5]\u001b[0m, in \u001b[0;36m<cell line: 6>\u001b[0;34m()\u001b[0m\n\u001b[1;32m      3\u001b[0m \u001b[38;5;28mprint\u001b[39m(tf\u001b[38;5;241m.\u001b[39m__version__) \u001b[38;5;66;03m# should be 2.5.0+\u001b[39;00m\n\u001b[1;32m      5\u001b[0m \u001b[38;5;66;03m# Get TensorFlow Datasets\u001b[39;00m\n\u001b[0;32m----> 6\u001b[0m \u001b[38;5;28;01mimport\u001b[39;00m \u001b[38;5;21;01mtensorflow_datasets\u001b[39;00m \u001b[38;5;28;01mas\u001b[39;00m \u001b[38;5;21;01mtfds\u001b[39;00m\n\u001b[1;32m      8\u001b[0m \u001b[38;5;66;03m# Get data science libraries\u001b[39;00m\n\u001b[1;32m      9\u001b[0m \u001b[38;5;28;01mimport\u001b[39;00m \u001b[38;5;21;01mpandas\u001b[39;00m \u001b[38;5;28;01mas\u001b[39;00m \u001b[38;5;21;01mpd\u001b[39;00m\n",
      "\u001b[0;31mModuleNotFoundError\u001b[0m: No module named 'tensorflow_datasets'"
     ]
    }
   ],
   "source": [
    "# Check TensorFlow version\n",
    "import tensorflow as tf\n",
    "print(tf.__version__) # should be 2.5.0+\n",
    "\n",
    "# Get TensorFlow Datasets\n",
    "import tensorflow_datasets as tfds\n",
    "\n",
    "# Get data science libraries\n",
    "import pandas as pd\n",
    "import numpy as np\n",
    "import matplotlib.pyplot as plt\n",
    "\n",
    "from tensorflow.keras import layers\n",
    "from timeit import default_timer as timer \n",
    "from helper_functions import print_train_time"
   ]
  },
  {
   "cell_type": "markdown",
   "id": "2425d422",
   "metadata": {
    "id": "2425d422"
   },
   "source": [
    "## Get data from TensorFlow Keras Datasets\n",
    "\n",
    "Let's download the data and inspect it. "
   ]
  },
  {
   "cell_type": "code",
   "execution_count": 6,
   "id": "d1dcec42",
   "metadata": {
    "id": "d1dcec42"
   },
   "outputs": [],
   "source": [
    "# Get data from tf.keras.datasets\n",
    "(train_images, train_labels), (test_images, test_labels) = tf.keras.datasets.cifar10.load_data()\n",
    "\n",
    "# Normalize pixel values to be between 0 and 1\n",
    "train_images, test_images = train_images / 255.0, test_images / 255.0"
   ]
  },
  {
   "cell_type": "code",
   "execution_count": 7,
   "id": "ea3b59dd",
   "metadata": {
    "id": "ea3b59dd"
   },
   "outputs": [],
   "source": [
    "class_names = ['airplane', 'automobile', 'bird', 'cat', 'deer',\n",
    "               'dog', 'frog', 'horse', 'ship', 'truck']"
   ]
  },
  {
   "cell_type": "code",
   "execution_count": 8,
   "id": "db015720",
   "metadata": {
    "colab": {
     "base_uri": "https://localhost:8080/",
     "height": 367
    },
    "id": "db015720",
    "outputId": "d4e8157f-0f92-434e-d379-94150bf12585"
   },
   "outputs": [
    {
     "ename": "AttributeError",
     "evalue": "module 'numpy' has no attribute 'randint'",
     "output_type": "error",
     "traceback": [
      "\u001b[0;31m---------------------------------------------------------------------------\u001b[0m",
      "\u001b[0;31mAttributeError\u001b[0m                            Traceback (most recent call last)",
      "\u001b[1;32m/Users/andreyg/Documents/m1-machine-learning-test/00_cifar10_tinyvgg_benchmark.ipynb Cell 14'\u001b[0m in \u001b[0;36m<cell line: 2>\u001b[0;34m()\u001b[0m\n\u001b[1;32m      <a href='vscode-notebook-cell:/Users/andreyg/Documents/m1-machine-learning-test/00_cifar10_tinyvgg_benchmark.ipynb#ch0000013?line=0'>1</a>\u001b[0m \u001b[39m# Inspect image\u001b[39;00m\n\u001b[0;32m----> <a href='vscode-notebook-cell:/Users/andreyg/Documents/m1-machine-learning-test/00_cifar10_tinyvgg_benchmark.ipynb#ch0000013?line=1'>2</a>\u001b[0m i \u001b[39m=\u001b[39m np\u001b[39m.\u001b[39;49mrandint(\u001b[39m0\u001b[39m,\u001b[39m40000\u001b[39m)\n\u001b[1;32m      <a href='vscode-notebook-cell:/Users/andreyg/Documents/m1-machine-learning-test/00_cifar10_tinyvgg_benchmark.ipynb#ch0000013?line=2'>3</a>\u001b[0m image \u001b[39m=\u001b[39m train_images[i]\n\u001b[1;32m      <a href='vscode-notebook-cell:/Users/andreyg/Documents/m1-machine-learning-test/00_cifar10_tinyvgg_benchmark.ipynb#ch0000013?line=3'>4</a>\u001b[0m label \u001b[39m=\u001b[39m \u001b[39mint\u001b[39m(train_labels[i])\n",
      "File \u001b[0;32m~/miniforge3/envs/tf_m1/lib/python3.10/site-packages/numpy/__init__.py:315\u001b[0m, in \u001b[0;36m__getattr__\u001b[0;34m(attr)\u001b[0m\n\u001b[1;32m    <a href='file:///Users/andreyg/miniforge3/envs/tf_m1/lib/python3.10/site-packages/numpy/__init__.py?line=311'>312</a>\u001b[0m     \u001b[39mfrom\u001b[39;00m \u001b[39m.\u001b[39;00m\u001b[39mtesting\u001b[39;00m \u001b[39mimport\u001b[39;00m Tester\n\u001b[1;32m    <a href='file:///Users/andreyg/miniforge3/envs/tf_m1/lib/python3.10/site-packages/numpy/__init__.py?line=312'>313</a>\u001b[0m     \u001b[39mreturn\u001b[39;00m Tester\n\u001b[0;32m--> <a href='file:///Users/andreyg/miniforge3/envs/tf_m1/lib/python3.10/site-packages/numpy/__init__.py?line=314'>315</a>\u001b[0m \u001b[39mraise\u001b[39;00m \u001b[39mAttributeError\u001b[39;00m(\u001b[39m\"\u001b[39m\u001b[39mmodule \u001b[39m\u001b[39m{!r}\u001b[39;00m\u001b[39m has no attribute \u001b[39m\u001b[39m\"\u001b[39m\n\u001b[1;32m    <a href='file:///Users/andreyg/miniforge3/envs/tf_m1/lib/python3.10/site-packages/numpy/__init__.py?line=315'>316</a>\u001b[0m                      \u001b[39m\"\u001b[39m\u001b[39m{!r}\u001b[39;00m\u001b[39m\"\u001b[39m\u001b[39m.\u001b[39mformat(\u001b[39m__name__\u001b[39m, attr))\n",
      "\u001b[0;31mAttributeError\u001b[0m: module 'numpy' has no attribute 'randint'"
     ]
    }
   ],
   "source": [
    "# Inspect image\n",
    "i = np.randint(0,40000)\n",
    "image = train_images[i]\n",
    "label = int(train_labels[i])\n",
    "\n",
    "print(f\"\"\" Image shape: {image.shape}\n",
    "  Image dtype: {image.dtype}\n",
    "  Target class from Food101: {label}\n",
    "  Class name (str form): {class_names[label]} \"\"\")\n",
    "plt.imshow(image)\n",
    "plt.title(class_names[label])\n",
    "plt.axis(False);"
   ]
  },
  {
   "cell_type": "markdown",
   "id": "uif5hgCa5tpp",
   "metadata": {
    "id": "uif5hgCa5tpp"
   },
   "source": [
    "## Prepare data\n",
    "\n",
    "The data looks good. But before we model it, we're going to prepare it to run as fast as possible using [TensorFlow data loading best practices](https://www.tensorflow.org/guide/data_performance)."
   ]
  },
  {
   "cell_type": "code",
   "execution_count": 9,
   "id": "3c862c1e",
   "metadata": {
    "colab": {
     "base_uri": "https://localhost:8080/"
    },
    "id": "3c862c1e",
    "outputId": "2ad14326-e58d-4fea-9e37-04a8c3761495"
   },
   "outputs": [
    {
     "name": "stdout",
     "output_type": "stream",
     "text": [
      "Metal device set to: Apple M1 Pro\n",
      "\n",
      "systemMemory: 32.00 GB\n",
      "maxCacheSize: 10.67 GB\n",
      "\n"
     ]
    },
    {
     "data": {
      "text/plain": [
       "(<PrefetchDataset element_spec=(TensorSpec(shape=(None, 32, 32, 3), dtype=tf.float64, name=None), TensorSpec(shape=(None, 1), dtype=tf.uint8, name=None))>,\n",
       " <PrefetchDataset element_spec=(TensorSpec(shape=(None, 32, 32, 3), dtype=tf.float64, name=None), TensorSpec(shape=(None, 1), dtype=tf.uint8, name=None))>,\n",
       " 1563,\n",
       " 313)"
      ]
     },
     "execution_count": 9,
     "metadata": {},
     "output_type": "execute_result"
    }
   ],
   "source": [
    "# Create datasets \n",
    "train_data = tf.data.Dataset.from_tensor_slices((train_images, train_labels))\n",
    "test_data = tf.data.Dataset.from_tensor_slices((test_images, test_labels))\n",
    "\n",
    "# Make datasets faster\n",
    "train_data = train_data.batch(BATCH_SIZE).prefetch(tf.data.AUTOTUNE)\n",
    "test_data = test_data.batch(BATCH_SIZE).prefetch(tf.data.AUTOTUNE)\n",
    "\n",
    "train_data, test_data, len(train_data), len(test_data)"
   ]
  },
  {
   "cell_type": "markdown",
   "id": "25d58b30",
   "metadata": {
    "id": "25d58b30"
   },
   "source": [
    "## Setup and fit model\n",
    "\n",
    "To keep things simple, we're going to use the TinyVGG architecture from the [CNN explainer website](https://poloclub.github.io/cnn-explainer/)."
   ]
  },
  {
   "cell_type": "code",
   "execution_count": 10,
   "id": "7938027f",
   "metadata": {
    "colab": {
     "base_uri": "https://localhost:8080/"
    },
    "id": "7938027f",
    "outputId": "87e95c58-acb6-46ad-a2c7-e373daf25add"
   },
   "outputs": [
    {
     "name": "stdout",
     "output_type": "stream",
     "text": [
      "Epoch 1/50\n",
      "1563/1563 [==============================] - 19s 11ms/step - loss: 1.7033 - accuracy: 0.3807 - val_loss: 1.5192 - val_accuracy: 0.4605\n",
      "Epoch 2/50\n",
      "1563/1563 [==============================] - 17s 11ms/step - loss: 1.4182 - accuracy: 0.4915 - val_loss: 1.4046 - val_accuracy: 0.5010\n",
      "Epoch 3/50\n",
      "1563/1563 [==============================] - 17s 11ms/step - loss: 1.3199 - accuracy: 0.5297 - val_loss: 1.3211 - val_accuracy: 0.5272\n",
      "Epoch 4/50\n",
      "1563/1563 [==============================] - 17s 11ms/step - loss: 1.2560 - accuracy: 0.5553 - val_loss: 1.2575 - val_accuracy: 0.5554\n",
      "Epoch 5/50\n",
      "1563/1563 [==============================] - 17s 11ms/step - loss: 1.2092 - accuracy: 0.5727 - val_loss: 1.1990 - val_accuracy: 0.5772\n",
      "Epoch 6/50\n",
      "1563/1563 [==============================] - 17s 11ms/step - loss: 1.1731 - accuracy: 0.5864 - val_loss: 1.1567 - val_accuracy: 0.5911\n",
      "Epoch 7/50\n",
      "1563/1563 [==============================] - 17s 11ms/step - loss: 1.1422 - accuracy: 0.5983 - val_loss: 1.1259 - val_accuracy: 0.5995\n",
      "Epoch 8/50\n",
      "1563/1563 [==============================] - 17s 11ms/step - loss: 1.1131 - accuracy: 0.6082 - val_loss: 1.1046 - val_accuracy: 0.6096\n",
      "Epoch 9/50\n",
      "1563/1563 [==============================] - 17s 11ms/step - loss: 1.0864 - accuracy: 0.6181 - val_loss: 1.0956 - val_accuracy: 0.6115\n",
      "Epoch 10/50\n",
      "1563/1563 [==============================] - 17s 11ms/step - loss: 1.0612 - accuracy: 0.6272 - val_loss: 1.0752 - val_accuracy: 0.6208\n",
      "Epoch 11/50\n",
      "1563/1563 [==============================] - 17s 11ms/step - loss: 1.0400 - accuracy: 0.6343 - val_loss: 1.0513 - val_accuracy: 0.6315\n",
      "Epoch 12/50\n",
      "1563/1563 [==============================] - 17s 11ms/step - loss: 1.0200 - accuracy: 0.6425 - val_loss: 1.0364 - val_accuracy: 0.6369\n",
      "Epoch 13/50\n",
      "1563/1563 [==============================] - 17s 11ms/step - loss: 1.0031 - accuracy: 0.6479 - val_loss: 1.0269 - val_accuracy: 0.6401\n",
      "Epoch 14/50\n",
      "1563/1563 [==============================] - 17s 11ms/step - loss: 0.9898 - accuracy: 0.6525 - val_loss: 1.0156 - val_accuracy: 0.6437\n",
      "Epoch 15/50\n",
      "1563/1563 [==============================] - 17s 11ms/step - loss: 0.9784 - accuracy: 0.6563 - val_loss: 1.0027 - val_accuracy: 0.6491\n",
      "Epoch 16/50\n",
      "1563/1563 [==============================] - 17s 11ms/step - loss: 0.9678 - accuracy: 0.6604 - val_loss: 0.9965 - val_accuracy: 0.6509\n",
      "Epoch 17/50\n",
      "1563/1563 [==============================] - 17s 11ms/step - loss: 0.9582 - accuracy: 0.6633 - val_loss: 0.9985 - val_accuracy: 0.6477\n",
      "Epoch 18/50\n",
      "1563/1563 [==============================] - 17s 11ms/step - loss: 0.9505 - accuracy: 0.6672 - val_loss: 0.9909 - val_accuracy: 0.6522\n",
      "Epoch 19/50\n",
      "1563/1563 [==============================] - 17s 11ms/step - loss: 0.9439 - accuracy: 0.6693 - val_loss: 0.9888 - val_accuracy: 0.6500\n",
      "Epoch 20/50\n",
      "1563/1563 [==============================] - 17s 11ms/step - loss: 0.9369 - accuracy: 0.6720 - val_loss: 0.9873 - val_accuracy: 0.6523\n",
      "Epoch 21/50\n",
      "1563/1563 [==============================] - 17s 11ms/step - loss: 0.9312 - accuracy: 0.6727 - val_loss: 0.9862 - val_accuracy: 0.6549\n",
      "Epoch 22/50\n",
      "1563/1563 [==============================] - 17s 11ms/step - loss: 0.9266 - accuracy: 0.6739 - val_loss: 0.9816 - val_accuracy: 0.6562\n",
      "Epoch 23/50\n",
      "1563/1563 [==============================] - 16s 11ms/step - loss: 0.9215 - accuracy: 0.6770 - val_loss: 0.9821 - val_accuracy: 0.6570\n",
      "Epoch 24/50\n",
      "1563/1563 [==============================] - 16s 11ms/step - loss: 0.9174 - accuracy: 0.6777 - val_loss: 0.9796 - val_accuracy: 0.6598\n",
      "Epoch 25/50\n",
      "1563/1563 [==============================] - 17s 11ms/step - loss: 0.9134 - accuracy: 0.6800 - val_loss: 0.9784 - val_accuracy: 0.6612\n",
      "Epoch 26/50\n",
      "1563/1563 [==============================] - 16s 10ms/step - loss: 0.9093 - accuracy: 0.6814 - val_loss: 0.9780 - val_accuracy: 0.6618\n",
      "Epoch 27/50\n",
      "1563/1563 [==============================] - 17s 11ms/step - loss: 0.9059 - accuracy: 0.6820 - val_loss: 0.9826 - val_accuracy: 0.6582\n",
      "Epoch 28/50\n",
      "1563/1563 [==============================] - 17s 11ms/step - loss: 0.9032 - accuracy: 0.6831 - val_loss: 0.9782 - val_accuracy: 0.6617\n",
      "Epoch 29/50\n",
      "1563/1563 [==============================] - 17s 11ms/step - loss: 0.9000 - accuracy: 0.6832 - val_loss: 0.9737 - val_accuracy: 0.6671\n",
      "Epoch 30/50\n",
      "1563/1563 [==============================] - 17s 11ms/step - loss: 0.8969 - accuracy: 0.6843 - val_loss: 0.9743 - val_accuracy: 0.6662\n",
      "Epoch 31/50\n",
      "1563/1563 [==============================] - 16s 11ms/step - loss: 0.8938 - accuracy: 0.6872 - val_loss: 0.9722 - val_accuracy: 0.6642\n",
      "Epoch 32/50\n",
      "1563/1563 [==============================] - 17s 11ms/step - loss: 0.8916 - accuracy: 0.6880 - val_loss: 0.9654 - val_accuracy: 0.6663\n",
      "Epoch 33/50\n",
      "1563/1563 [==============================] - 17s 11ms/step - loss: 0.8891 - accuracy: 0.6887 - val_loss: 0.9718 - val_accuracy: 0.6649\n",
      "Epoch 34/50\n",
      "1563/1563 [==============================] - 16s 11ms/step - loss: 0.8863 - accuracy: 0.6898 - val_loss: 0.9779 - val_accuracy: 0.6647\n",
      "Epoch 35/50\n",
      "1563/1563 [==============================] - 17s 11ms/step - loss: 0.8830 - accuracy: 0.6917 - val_loss: 0.9736 - val_accuracy: 0.6637\n",
      "Epoch 36/50\n",
      "1563/1563 [==============================] - 17s 11ms/step - loss: 0.8819 - accuracy: 0.6922 - val_loss: 0.9723 - val_accuracy: 0.6614\n",
      "Epoch 37/50\n",
      "1563/1563 [==============================] - 17s 11ms/step - loss: 0.8798 - accuracy: 0.6923 - val_loss: 0.9758 - val_accuracy: 0.6634\n",
      "Epoch 38/50\n",
      "1563/1563 [==============================] - 17s 11ms/step - loss: 0.8777 - accuracy: 0.6926 - val_loss: 0.9712 - val_accuracy: 0.6647\n",
      "Epoch 39/50\n",
      "1563/1563 [==============================] - 17s 11ms/step - loss: 0.8751 - accuracy: 0.6934 - val_loss: 0.9746 - val_accuracy: 0.6623\n",
      "Epoch 40/50\n",
      "1563/1563 [==============================] - 17s 11ms/step - loss: 0.8740 - accuracy: 0.6939 - val_loss: 0.9703 - val_accuracy: 0.6628\n",
      "Epoch 41/50\n",
      "1563/1563 [==============================] - 17s 11ms/step - loss: 0.8719 - accuracy: 0.6945 - val_loss: 0.9733 - val_accuracy: 0.6626\n",
      "Epoch 42/50\n",
      "1563/1563 [==============================] - 17s 11ms/step - loss: 0.8696 - accuracy: 0.6943 - val_loss: 0.9794 - val_accuracy: 0.6625\n",
      "Epoch 43/50\n",
      "1563/1563 [==============================] - 17s 11ms/step - loss: 0.8670 - accuracy: 0.6957 - val_loss: 0.9818 - val_accuracy: 0.6606\n",
      "Epoch 44/50\n",
      "1563/1563 [==============================] - 17s 11ms/step - loss: 0.8662 - accuracy: 0.6964 - val_loss: 0.9737 - val_accuracy: 0.6605\n",
      "Epoch 45/50\n",
      "1563/1563 [==============================] - 17s 11ms/step - loss: 0.8645 - accuracy: 0.6974 - val_loss: 0.9751 - val_accuracy: 0.6645\n",
      "Epoch 46/50\n",
      "1563/1563 [==============================] - 17s 11ms/step - loss: 0.8636 - accuracy: 0.6978 - val_loss: 0.9755 - val_accuracy: 0.6615\n",
      "Epoch 47/50\n",
      "1563/1563 [==============================] - 17s 11ms/step - loss: 0.8619 - accuracy: 0.6986 - val_loss: 0.9736 - val_accuracy: 0.6613\n",
      "Epoch 48/50\n",
      "1563/1563 [==============================] - 17s 11ms/step - loss: 0.8604 - accuracy: 0.6992 - val_loss: 0.9735 - val_accuracy: 0.6621\n",
      "Epoch 49/50\n",
      "1563/1563 [==============================] - 16s 11ms/step - loss: 0.8585 - accuracy: 0.6996 - val_loss: 0.9710 - val_accuracy: 0.6620\n",
      "Epoch 50/50\n",
      "1563/1563 [==============================] - 17s 11ms/step - loss: 0.8573 - accuracy: 0.7004 - val_loss: 0.9774 - val_accuracy: 0.6614\n",
      "\n",
      "Train time on M1: 835.080 seconds\n"
     ]
    }
   ],
   "source": [
    "# Set random seed\n",
    "tf.random.set_seed(42)\n",
    "\n",
    "# Start time\n",
    "start_time = timer()\n",
    "\n",
    "# Create a CNN model (same as Tiny VGG - https://poloclub.github.io/cnn-explainer/)\n",
    "model = tf.keras.models.Sequential([\n",
    "  tf.keras.layers.Conv2D(filters=10, \n",
    "                         kernel_size=3, # can also be (3, 3)\n",
    "                         activation=\"relu\", \n",
    "                         input_shape=(32, 32, 3)), # first layer specifies input shape (height, width, colour channels)\n",
    "  tf.keras.layers.Conv2D(10, 3, activation=\"relu\"),\n",
    "  tf.keras.layers.MaxPool2D(pool_size=2, # pool_size can also be (2, 2)\n",
    "                            padding=\"valid\"), # padding can also be 'same'\n",
    "  tf.keras.layers.Conv2D(10, 3, activation=\"relu\"),\n",
    "  tf.keras.layers.Conv2D(10, 3, activation=\"relu\"), # activation='relu' == tf.keras.layers.Activations(tf.nn.relu)\n",
    "  tf.keras.layers.MaxPool2D(2),\n",
    "  tf.keras.layers.Flatten(),\n",
    "  tf.keras.layers.Dense(10, activation=\"softmax\") # multi-class activation output\n",
    "], name=\"TinyVGG\")\n",
    "\n",
    "# Compile the model\n",
    "model.compile(loss=\"sparse_categorical_crossentropy\", # since labels aren't one-hot, use sparse_categorical_crossentropy\n",
    "              optimizer=tf.keras.optimizers.Adam(),\n",
    "              metrics=[\"accuracy\"])\n",
    "\n",
    "# Fit model \n",
    "history = model.fit(train_data,\n",
    "                    epochs=50,\n",
    "                    steps_per_epoch=len(train_data),\n",
    "                    validation_data=test_data,\n",
    "                    validation_steps=len(test_data))\n",
    "\n",
    "# Track time \n",
    "end_time = timer()\n",
    "train_time = print_train_time(start_time, \n",
    "                              end_time, \n",
    "                              device=DEVICE)"
   ]
  },
  {
   "cell_type": "markdown",
   "id": "qymGk8mw6VaD",
   "metadata": {
    "id": "qymGk8mw6VaD"
   },
   "source": [
    "## Track results and save to file"
   ]
  },
  {
   "cell_type": "code",
   "execution_count": 11,
   "id": "cferSb088tne",
   "metadata": {
    "colab": {
     "base_uri": "https://localhost:8080/",
     "height": 81
    },
    "id": "cferSb088tne",
    "outputId": "d88d79a3-6079-485f-ad98-bca241cf5359"
   },
   "outputs": [
    {
     "data": {
      "text/html": [
       "<div>\n",
       "<style scoped>\n",
       "    .dataframe tbody tr th:only-of-type {\n",
       "        vertical-align: middle;\n",
       "    }\n",
       "\n",
       "    .dataframe tbody tr th {\n",
       "        vertical-align: top;\n",
       "    }\n",
       "\n",
       "    .dataframe thead th {\n",
       "        text-align: right;\n",
       "    }\n",
       "</style>\n",
       "<table border=\"1\" class=\"dataframe\">\n",
       "  <thead>\n",
       "    <tr style=\"text-align: right;\">\n",
       "      <th></th>\n",
       "      <th>device</th>\n",
       "      <th>dataset_name</th>\n",
       "      <th>epochs</th>\n",
       "      <th>batch_size</th>\n",
       "      <th>num_train_samples</th>\n",
       "      <th>num_test_samples</th>\n",
       "      <th>total_train_time</th>\n",
       "      <th>time_per_epoch</th>\n",
       "      <th>model</th>\n",
       "    </tr>\n",
       "  </thead>\n",
       "  <tbody>\n",
       "    <tr>\n",
       "      <th>0</th>\n",
       "      <td>Google Colab (K80 GPU)</td>\n",
       "      <td>cifar10</td>\n",
       "      <td>10</td>\n",
       "      <td>32</td>\n",
       "      <td>50016</td>\n",
       "      <td>10016</td>\n",
       "      <td>166.911</td>\n",
       "      <td>16.691</td>\n",
       "      <td>TinyVGG</td>\n",
       "    </tr>\n",
       "  </tbody>\n",
       "</table>\n",
       "</div>"
      ],
      "text/plain": [
       "                   device dataset_name  ...  time_per_epoch    model\n",
       "0  Google Colab (K80 GPU)      cifar10  ...          16.691  TinyVGG\n",
       "\n",
       "[1 rows x 9 columns]"
      ]
     },
     "execution_count": 11,
     "metadata": {},
     "output_type": "execute_result"
    }
   ],
   "source": [
    "results = {\n",
    "    \"device\": DEVICE,\n",
    "    \"dataset_name\": DATASET_NAME,\n",
    "    \"epochs\": EPOCHS,\n",
    "    \"batch_size\": BATCH_SIZE,\n",
    "    \"num_train_samples\": len(train_data)*BATCH_SIZE,\n",
    "    \"num_test_samples\": len(test_data)*BATCH_SIZE,\n",
    "    \"total_train_time\": round(train_time, 3),\n",
    "    \"time_per_epoch\": round(train_time/EPOCHS, 3),\n",
    "    \"model\": model.name\n",
    "    }\n",
    "results_df = pd.DataFrame(results, index=[0])\n",
    "results_df"
   ]
  },
  {
   "cell_type": "code",
   "execution_count": 12,
   "id": "9Z4oPZYi8y1Y",
   "metadata": {
    "id": "9Z4oPZYi8y1Y"
   },
   "outputs": [],
   "source": [
    "# Write CSV to file\n",
    "if not os.path.exists(\"results/\"):\n",
    "  os.makedirs(\"results/\")\n",
    "\n",
    "results_df.to_csv(f\"results/{DEVICE}_{DATASET_NAME}.csv\")"
   ]
  }
 ],
 "metadata": {
  "accelerator": "GPU",
  "colab": {
   "collapsed_sections": [],
   "include_colab_link": true,
   "name": "00_cifar10_tinyvgg_benchmark.ipynb",
   "provenance": []
  },
  "interpreter": {
   "hash": "e12752029f6ddd3af8d85867c643658cf06132329c59e947c1b250a98dbb47c3"
  },
  "kernelspec": {
   "display_name": "tf",
   "language": "python",
   "name": "tf"
  },
  "language_info": {
   "codemirror_mode": {
    "name": "ipython",
    "version": 3
   },
   "file_extension": ".py",
   "mimetype": "text/x-python",
   "name": "python",
   "nbconvert_exporter": "python",
   "pygments_lexer": "ipython3",
   "version": "3.10.5"
  }
 },
 "nbformat": 4,
 "nbformat_minor": 5
}
